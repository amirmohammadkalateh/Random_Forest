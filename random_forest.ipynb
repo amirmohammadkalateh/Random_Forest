{
  "nbformat": 4,
  "nbformat_minor": 0,
  "metadata": {
    "colab": {
      "provenance": [],
      "authorship_tag": "ABX9TyOXfVZmb1gAhhPhlgYAqLHW",
      "include_colab_link": true
    },
    "kernelspec": {
      "name": "python3",
      "display_name": "Python 3"
    },
    "language_info": {
      "name": "python"
    }
  },
  "cells": [
    {
      "cell_type": "markdown",
      "metadata": {
        "id": "view-in-github",
        "colab_type": "text"
      },
      "source": [
        "<a href=\"https://colab.research.google.com/github/amirmohammadkalateh/Random_Forest/blob/main/random_forest.ipynb\" target=\"_parent\"><img src=\"https://colab.research.google.com/assets/colab-badge.svg\" alt=\"Open In Colab\"/></a>"
      ]
    },
    {
      "cell_type": "code",
      "execution_count": 2,
      "metadata": {
        "colab": {
          "base_uri": "https://localhost:8080/"
        },
        "id": "qSZ-hBW2HAhu",
        "outputId": "173b5f4a-8785-424f-c0cc-2dbdd9e629c5"
      },
      "outputs": [
        {
          "output_type": "stream",
          "name": "stdout",
          "text": [
            "Random Forest Model Performance:\n",
            "\n",
            "Accuracy: 0.7924662402274343\n",
            "\n",
            "Classification Report:\n",
            "              precision    recall  f1-score   support\n",
            "\n",
            "           0       0.83      0.90      0.86      1033\n",
            "           1       0.64      0.49      0.56       374\n",
            "\n",
            "    accuracy                           0.79      1407\n",
            "   macro avg       0.74      0.70      0.71      1407\n",
            "weighted avg       0.78      0.79      0.78      1407\n",
            "\n",
            "\n",
            "Top 10 Most Important Features:\n",
            "            feature  importance\n",
            "18     TotalCharges    0.184953\n",
            "17   MonthlyCharges    0.178014\n",
            "4            tenure    0.154510\n",
            "14         Contract    0.080585\n",
            "16    PaymentMethod    0.052031\n",
            "8    OnlineSecurity    0.048509\n",
            "11      TechSupport    0.047581\n",
            "7   InternetService    0.026813\n",
            "0            gender    0.026715\n",
            "9      OnlineBackup    0.025883\n"
          ]
        }
      ],
      "source": [
        "#random forest !!\n",
        "import pandas as pd\n",
        "import numpy as np\n",
        "from sklearn.model_selection import train_test_split\n",
        "from sklearn.ensemble import RandomForestClassifier\n",
        "from sklearn.preprocessing import LabelEncoder\n",
        "from sklearn.metrics import accuracy_score, classification_report\n",
        "\n",
        "# Load data\n",
        "df = pd.read_csv('Customer-Churn.csv')\n",
        "\n",
        "# Data preprocessing\n",
        "# Convert categorical variables to numerical\n",
        "le = LabelEncoder()\n",
        "categorical_cols = ['gender', 'Partner', 'Dependents', 'PhoneService', 'MultipleLines',\n",
        "                   'InternetService', 'OnlineSecurity', 'OnlineBackup', 'DeviceProtection',\n",
        "                   'TechSupport', 'StreamingTV', 'StreamingMovies', 'Contract',\n",
        "                   'PaperlessBilling', 'PaymentMethod', 'Churn']\n",
        "\n",
        "for col in categorical_cols:\n",
        "    df[col] = le.fit_transform(df[col])\n",
        "\n",
        "# Drop customerID column\n",
        "df = df.drop('customerID', axis=1)\n",
        "\n",
        "# Convert TotalCharges to numeric, replacing spaces with NaN\n",
        "df['TotalCharges'] = pd.to_numeric(df['TotalCharges'], errors='coerce')\n",
        "df = df.dropna()\n",
        "\n",
        "# Split features and target\n",
        "X = df.drop('Churn', axis=1)\n",
        "y = df['Churn']\n",
        "\n",
        "# Split data into training and testing sets\n",
        "X_train, X_test, y_train, y_test = train_test_split(X, y, test_size=0.2, random_state=42)\n",
        "\n",
        "# Create and train Random Forest model\n",
        "rf_model = RandomForestClassifier(n_estimators=100, random_state=42)\n",
        "rf_model.fit(X_train, y_train)\n",
        "\n",
        "# Make predictions\n",
        "y_pred = rf_model.predict(X_test)\n",
        "\n",
        "# Print model performance\n",
        "print(\"Random Forest Model Performance:\")\n",
        "print(\"\\nAccuracy:\", accuracy_score(y_test, y_pred))\n",
        "print(\"\\nClassification Report:\")\n",
        "print(classification_report(y_test, y_pred))\n",
        "\n",
        "# Feature importance\n",
        "feature_importance = pd.DataFrame({\n",
        "    'feature': X.columns,\n",
        "    'importance': rf_model.feature_importances_\n",
        "})\n",
        "print(\"\\nTop 10 Most Important Features:\")\n",
        "print(feature_importance.sort_values('importance', ascending=False).head(10))\n"
      ]
    }
  ]
}